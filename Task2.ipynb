{
 "cells": [
  {
   "cell_type": "markdown",
   "metadata": {},
   "source": [
    "For this task, I will use the CIFAR-10 dataset, which consists of 10 classes of coloured images, including airplane, automobile, bird, cat, deer, dog, frog, horse, ship, and truck. The dataset contains 60,000 images - 50,000 images for the training set and 10,000 images for the testing set. Each image is a 32x32 pixel RGB image (3 channels: red, green, and blue), labeled according to its class. The pixel values range from 0 to 255, representing the intensity of each color channel.\n",
    "\n",
    "Below I will load the dataset and display some of its characteristics mentioned above:"
   ]
  },
  {
   "cell_type": "code",
   "execution_count": 55,
   "metadata": {},
   "outputs": [
    {
     "name": "stdout",
     "output_type": "stream",
     "text": [
      "Training set size: 60000 images\n",
      "Test set size: 10000 images\n",
      "Image dimensions: 28x28 pixels\n",
      "Labels: {0, 1, 2, 3, 4, 5, 6, 7, 8, 9}\n"
     ]
    },
    {
     "data": {
      "image/png": "[encoded data removed]",
      "text/plain": [
       "<Figure size 1000x200 with 5 Axes>"
      ]
     },
     "metadata": {},
     "output_type": "display_data"
    }
   ],
   "source": [
    "import numpy as np\n",
    "import matplotlib.pyplot as plt\n",
    "\n",
    "mnist_data = np.load('./mnist.npz')\n",
    "\n",
    "x_train, y_train = mnist_data['x_train'], mnist_data['y_train']\n",
    "x_test, y_test = mnist_data['x_test'], mnist_data['y_test']\n",
    "\n",
    "print(f\"Training set size: {x_train.shape[0]} images\")\n",
    "print(f\"Test set size: {x_test.shape[0]} images\")\n",
    "print(f\"Image dimensions: {x_train.shape[1]}x{x_train.shape[2]} pixels\")\n",
    "print(f\"Labels: {set(y_train)}\")\n",
    "\n",
    "# I will also display some sample images from the dataset to visualise the images I am working with\n",
    "\n",
    "fig, axes = plt.subplots(1, 5, figsize=(10, 2))\n",
    "for i, ax in enumerate(axes):\n",
    "    ax.imshow(x_train[i], cmap='gray')\n",
    "    ax.set_title(f\"Label: {y_train[i]}\")\n",
    "    ax.axis('off')\n",
    "plt.tight_layout()\n",
    "plt.show()"
   ]
  },
  {
   "cell_type": "markdown",
   "metadata": {},
   "source": [
    "I will create a base convolutional neural network (using PyTorch) to classify these digits.\n",
    "The MNIST dataset is already almost fully pre-processed and clean, greyscaled and resized to 28x28 pixels.\n",
    "I will first normalize the pixel values into a range between 0 and 1, to help the neural network converge faster during training:"
   ]
  },
  {
   "cell_type": "code",
   "execution_count": 56,
   "metadata": {},
   "outputs": [
    {
     "name": "stdout",
     "output_type": "stream",
     "text": [
      "Max pixel value: 1.0\n",
      "Min pixel value: 0.0\n"
     ]
    }
   ],
   "source": [
    "x_train = x_train / 255.0\n",
    "x_test = x_test / 255.0\n",
    "\n",
    "# We can display the max and min value to visualise this\n",
    "\n",
    "print(f\"Max pixel value: {x_train.max()}\")\n",
    "print(f\"Min pixel value: {x_test.min()}\")"
   ]
  },
  {
   "cell_type": "markdown",
   "metadata": {},
   "source": [
    "Next I need to convert both the training and testing set to PyTorch tensors as this is what the model expects. \n",
    "Since the neural network is convolutional, I will need to retain the 2D structure (height x width) and add an extra channel dimension for greyscale too, indicating the depth of the image:"
   ]
  },
  {
   "cell_type": "code",
   "execution_count": 57,
   "metadata": {},
   "outputs": [],
   "source": [
    "import torch\n",
    "\n",
    "x_train = torch.tensor(x_train, dtype=torch.float32) \n",
    "x_test = torch.tensor(x_test, dtype=torch.float32)\n",
    "\n",
    "x_train = x_train.unsqueeze(1) # becomes (60000, 1, 28, 28)\n",
    "x_test = x_test.unsqueeze(1)\n",
    "\n",
    "y_train = torch.tensor(y_train)\n",
    "y_test = torch.tensor(y_test)\n"
   ]
  },
  {
   "cell_type": "markdown",
   "metadata": {},
   "source": [
    "The labels are currently ranging from 0-9, so I will need to one-hot encode them into a binary vector for each, specifying the amount of classes:"
   ]
  },
  {
   "cell_type": "code",
   "execution_count": 58,
   "metadata": {},
   "outputs": [
    {
     "name": "stdout",
     "output_type": "stream",
     "text": [
      "Example one-hot encoded label: [0. 0. 0. 0. 0. 1. 0. 0. 0. 0.]\n"
     ]
    }
   ],
   "source": [
    "from tensorflow.keras.utils import to_categorical\n",
    "\n",
    "y_train_one_hot = to_categorical(y_train, num_classes=10)\n",
    "y_test_one_hot = to_categorical(y_test, num_classes=10)\n",
    "\n",
    "print(f\"Example one-hot encoded label: {y_train_one_hot[0]}\")"
   ]
  },
  {
   "cell_type": "markdown",
   "metadata": {},
   "source": [
    "Now the input is prepared, I will start building the model.\n",
    "I will first need to establish a baseline CNN model, which I will build on and add improvements, and then carry out hyperparameter tuning:"
   ]
  },
  {
   "cell_type": "code",
   "execution_count": 59,
   "metadata": {},
   "outputs": [],
   "source": [
    "import torch\n",
    "import torch.nn as nn\n",
    "import torch.nn.functional as F\n",
    "\n",
    "class CNN(nn.Module):\n",
    "    def __init__(self):\n",
    "        super(CNN, self).__init__()\n",
    "        \n",
    "        # 1 Convolutional Layers\n",
    "        self.conv1 = nn.Conv2d(1, 8, kernel_size=3)\n",
    "        \n",
    "        # 1 Fully Connected Layer\n",
    "        self.fc1 = nn.Linear(8 * 26 * 26, 10)\n",
    "    \n",
    "    def forward(self, x):\n",
    "        x = F.relu(self.conv1(x))\n",
    "        x = x.view(x.size(0), -1) \n",
    "        x = self.fc1(x)  \n",
    "        return x\n",
    "    \n",
    "model = CNN()\n",
    "\n",
    "# Baseline Hyperparameters\n",
    "\n",
    "batch_size = 64\n",
    "learning_rate = 0.01\n",
    "num_epochs = 3"
   ]
  },
  {
   "cell_type": "markdown",
   "metadata": {},
   "source": [
    "To start with, I have defined a simple base convolutional network with 1 convolutional layer and 1 fully connected layer, and no hidden layers. \n",
    "\n",
    "In the forward pass function, the first convolutional layer is applied with a ReLU activation function. Then the feature maps are flattened into 1D to be fed into the fully connected layer. Then the first fully connected layer is applied with no activation as it is handled in the loss function.\n",
    "\n",
    "Under this, I have specified the hyperparameters that I will start off with:\n",
    "- Batch size: 64 - (higher = more stable gradient updates but slower weight updates, lower = faster weight updates but gradients are noiser)\n",
    "- Learning rate: 0.01 - (higher = faster training but risk of overshooting the minimum, lower = slower training but ensures more stable and precise convergence at minimum)\n",
    "- Epochs: 3 - (higher = risk of overfitting, lower = risk of underfitting)\n",
    "\n",
    "I also need to define the loss function and the optimizer for the baseline model. I will use cross-entropy loss as it is standard for multi-class classification problems, and also the adam optimizer:"
   ]
  },
  {
   "cell_type": "code",
   "execution_count": 60,
   "metadata": {},
   "outputs": [],
   "source": [
    "import torch.optim as optim\n",
    "\n",
    "criterion = nn.CrossEntropyLoss()\n",
    "optimizer = optim.Adam(model.parameters(), lr=learning_rate)"
   ]
  },
  {
   "cell_type": "markdown",
   "metadata": {},
   "source": [
    "Before training I will also need to wrap the data in loaders now that batch size is defined:"
   ]
  },
  {
   "cell_type": "code",
   "execution_count": 61,
   "metadata": {},
   "outputs": [],
   "source": [
    "from torch.utils.data import DataLoader, TensorDataset\n",
    "\n",
    "train_dataset = TensorDataset(x_train, y_train)\n",
    "test_dataset = TensorDataset(x_test, y_test)\n",
    "\n",
    "train_loader = DataLoader(train_dataset, batch_size=batch_size, shuffle=True)\n",
    "test_loader = DataLoader(test_dataset, batch_size=batch_size, shuffle=False)"
   ]
  },
  {
   "cell_type": "markdown",
   "metadata": {},
   "source": [
    "Now I will train the model for the specified baseline number of epochs:"
   ]
  },
  {
   "cell_type": "code",
   "execution_count": 62,
   "metadata": {},
   "outputs": [
    {
     "name": "stdout",
     "output_type": "stream",
     "text": [
      "Epoch [1/3], Loss: 0.2922, Accuracy: 92.57%\n",
      "Epoch [2/3], Loss: 0.0976, Accuracy: 97.20%\n",
      "Epoch [3/3], Loss: 0.0723, Accuracy: 97.71%\n"
     ]
    }
   ],
   "source": [
    "for epoch in range(num_epochs):\n",
    "    model.train()\n",
    "    running_loss = 0.0\n",
    "    correct = 0\n",
    "    total = 0\n",
    "    \n",
    "    for images, labels in train_loader:\n",
    "        outputs = model(images)\n",
    "        loss = criterion(outputs, labels)\n",
    "        \n",
    "        optimizer.zero_grad()\n",
    "        loss.backward()\n",
    "        optimizer.step()\n",
    "        \n",
    "        running_loss += loss.item()\n",
    "        _, predicted = torch.max(outputs.data, 1)\n",
    "        total += labels.size(0)\n",
    "        correct += (predicted == labels).sum().item()\n",
    "    \n",
    "    # Print epoch statistics\n",
    "    print(f\"Epoch [{epoch+1}/{num_epochs}], Loss: {running_loss/len(train_loader):.4f}, Accuracy: {100 * correct / total:.2f}%\")   "
   ]
  }
 ],
 "metadata": {
  "kernelspec": {
   "display_name": "Python 3",
   "language": "python",
   "name": "python3"
  },
  "language_info": {
   "codemirror_mode": {
    "name": "ipython",
    "version": 3
   },
   "file_extension": ".py",
   "mimetype": "text/x-python",
   "name": "python",
   "nbconvert_exporter": "python",
   "pygments_lexer": "ipython3",
   "version": "3.10.1"
  }
 },
 "nbformat": 4,
 "nbformat_minor": 2
}
