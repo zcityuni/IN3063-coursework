{
 "cells": [
  {
   "cell_type": "markdown",
   "metadata": {},
   "source": [
    "For this task, I will use the CIFAR-10 dataset, which consists of 10 classes of coloured images, including airplane, automobile, bird, cat, deer, dog, frog, horse, ship, and truck. The dataset contains 60,000 images - 50,000 images for the training set and 10,000 images for the testing set. Each image is a 32x32 pixel RGB image (3 channels: red, green, and blue), labeled according to its class. The pixel values range from 0 to 255, representing the intensity of each color channel.\n",
    "\n",
    "I had issues importing cifar-10 from conventional sources such as keras or PyTorch, so I used Kaggle instead and downloaded the dataset as compressed numpy arrays: https://www.kaggle.com/datasets/guesejustin/cifar10-keras-files-cifar10load-data?resource=download\n",
    "\n",
    "Below I will load the datasetand display some of its characteristics mentioned above:"
   ]
  },
  {
   "cell_type": "code",
   "execution_count": 54,
   "metadata": {},
   "outputs": [
    {
     "name": "stdout",
     "output_type": "stream",
     "text": [
      "Training set shape: (50000, 32, 32, 3) images\n",
      "Test set shape: (10000, 32, 32, 3) images\n",
      "Image dimensions: 32x32 pixels\n"
     ]
    },
    {
     "data": {
      "image/png": "[encoded data removed]",
      "text/plain": [
       "<Figure size 1000x200 with 5 Axes>"
      ]
     },
     "metadata": {},
     "output_type": "display_data"
    }
   ],
   "source": [
    "import numpy as np\n",
    "import matplotlib.pyplot as plt\n",
    "\n",
    "cifar_data = np.load('./cifar-10.npz')\n",
    "\n",
    "filenames = [\"x_train\",\"y_train\",\"x_test\",\"y_test\"]\n",
    "nps = []\n",
    "\n",
    "for filename in filenames:\n",
    "    nps.append(cifar_data[filename])\n",
    "\n",
    "x_train, y_train, x_test, y_test = nps\n",
    "\n",
    "print(f\"Training set shape: {x_train.shape} images\")\n",
    "print(f\"Test set shape: {x_test.shape} images\")\n",
    "print(f\"Image dimensions: {x_train.shape[1]}x{x_train.shape[2]} pixels\")\n",
    "\n",
    "# I will also display some sample images from the dataset to visualise the images I am working with\n",
    "\n",
    "fig, axes = plt.subplots(1, 5, figsize=(10, 2))\n",
    "for i, ax in enumerate(axes):\n",
    "    ax.imshow(x_train[i], cmap='gray')\n",
    "    ax.set_title(f\"Label: {y_train[i]}\")\n",
    "    ax.axis('off')\n",
    "plt.tight_layout()\n",
    "plt.show()"
   ]
  },
  {
   "cell_type": "markdown",
   "metadata": {},
   "source": [
    "I will create a base convolutional neural network (using PyTorch) to classify images.\n",
    "Firstly I need to normalise the images, I will use the \"mean\" and \"std\" values calulated to CIFAR-10 to normalize each RGB channel seperately:"
   ]
  },
  {
   "cell_type": "code",
   "execution_count": 55,
   "metadata": {},
   "outputs": [],
   "source": [
    "import torch\n",
    "from torchvision.transforms import Compose, ToTensor, Normalize, RandomHorizontalFlip, RandomCrop\n",
    "from torch.utils.data import DataLoader, TensorDataset\n",
    "\n",
    "mean = [0.4914, 0.4822, 0.4465]\n",
    "std = [0.247, 0.243, 0.261]\n",
    "\n",
    "train_transform = Compose([\n",
    "    ToTensor(),\n",
    "    Normalize(mean, std)\n",
    "])\n",
    "\n",
    "test_transform = Compose([\n",
    "    ToTensor(),\n",
    "    Normalize(mean, std)\n",
    "])"
   ]
  },
  {
   "cell_type": "markdown",
   "metadata": {},
   "source": [
    "Next I need to convert both the training and testing set to PyTorch tensors, as well as the labels, as this is what the model expects. I also apply the transformations above to x_train and y_train:"
   ]
  },
  {
   "cell_type": "code",
   "execution_count": 56,
   "metadata": {},
   "outputs": [],
   "source": [
    "from PIL import Image\n",
    "\n",
    "x_train_transformed = torch.stack([\n",
    "    train_transform(Image.fromarray(img)) for img in x_train\n",
    "])\n",
    "x_test_transformed = torch.stack([\n",
    "    test_transform(Image.fromarray(img)) for img in x_test\n",
    "])\n",
    "\n",
    "y_train_tensor = torch.tensor(y_train).long()\n",
    "y_test_tensor = torch.tensor(y_test).long()"
   ]
  },
  {
   "cell_type": "markdown",
   "metadata": {},
   "source": [
    "Now the input is prepared, I will start building the model.\n",
    "I will first need to establish a baseline CNN model, which I will build on and add improvements, and then carry out hyperparameter tuning:"
   ]
  },
  {
   "cell_type": "code",
   "execution_count": 57,
   "metadata": {},
   "outputs": [],
   "source": [
    "import torch\n",
    "import torch.nn as nn\n",
    "import torch.nn.functional as F\n",
    "\n",
    "class CNN(nn.Module):\n",
    "    def __init__(self):\n",
    "        super(CNN, self).__init__()\n",
    "        \n",
    "        # 2 Convolutional Layers\n",
    "        self.conv1 = nn.Conv2d(3, 8, kernel_size=3)\n",
    "        self.conv2 = nn.Conv2d(8, 16, kernel_size=3)\n",
    "        \n",
    "        # 1 Pooling Layer\n",
    "        self.pool = nn.MaxPool2d(kernel_size=2, stride=2)\n",
    "        \n",
    "        # 2 Fully Connected Layers\n",
    "        self.fc1 = nn.Linear(16 * 14 * 14, 256)\n",
    "        self.fc2 = nn.Linear(256, 10)\n",
    "    \n",
    "    def forward(self, x):\n",
    "        x = F.relu(self.conv1(x))\n",
    "        x = F.relu(self.conv2(x))\n",
    "        x = self.pool(x)\n",
    "        x = x.view(x.size(0), -1)\n",
    "        x = F.relu(self.fc1(x))\n",
    "        x = self.fc2(x)\n",
    "        return x\n",
    "    \n",
    "model = CNN()\n",
    "\n",
    "# Baseline Hyperparameters\n",
    "\n",
    "batch_size = 64\n",
    "learning_rate = 0.01\n",
    "num_epochs = 6"
   ]
  },
  {
   "cell_type": "markdown",
   "metadata": {},
   "source": [
    "To start with, I have defined a simple base convolutional network with 2 convolutional layers and 2 fully connected layers, and 1 pooling layer. The role of the pooling layer is to reduce the spatial dimensions of feature maps while retaining most of the important information.\n",
    "\n",
    "In the forward pass function, the first and second convolutional layer is applied with a ReLU activation function. Then pooling is applied, and the feature maps are flattened into 1D to be fed into the fully connected layers. Then the first fully connected layer is applied with ReLU, and the second with no activation as it is handled in the loss function.\n",
    "\n",
    "Under this, I have specified the hyperparameters that I will start off with:\n",
    "- Batch size: 64 - (higher = more stable gradient updates but slower weight updates, lower = faster weight updates but gradients are noiser)\n",
    "- Learning rate: 0.01 - (higher = faster training but risk of overshooting the minimum, lower = slower training but ensures more stable and precise convergence at minimum)\n",
    "- Epochs: 6 - (higher = risk of overfitting, lower = risk of underfitting)\n",
    "\n",
    "I also need to define the loss function and the optimizer for the baseline model. I will use cross-entropy loss as it is standard for multi-class classification problems, and also the adam optimizer:"
   ]
  },
  {
   "cell_type": "code",
   "execution_count": 58,
   "metadata": {},
   "outputs": [],
   "source": [
    "import torch.optim as optim\n",
    "\n",
    "criterion = nn.CrossEntropyLoss()\n",
    "optimizer = optim.Adam(model.parameters(), lr=learning_rate)"
   ]
  },
  {
   "cell_type": "markdown",
   "metadata": {},
   "source": [
    "Before training I will also need to wrap the data in loaders now that batch size is defined:"
   ]
  },
  {
   "cell_type": "code",
   "execution_count": 59,
   "metadata": {},
   "outputs": [],
   "source": [
    "from torch.utils.data import DataLoader, TensorDataset\n",
    "\n",
    "train_dataset = TensorDataset(x_train_transformed, y_train_tensor)\n",
    "test_dataset = TensorDataset(x_test_transformed, y_test_tensor)\n",
    "\n",
    "train_loader = DataLoader(train_dataset, batch_size=64, shuffle=True)\n",
    "test_loader = DataLoader(test_dataset, batch_size=64, shuffle=False)"
   ]
  },
  {
   "cell_type": "markdown",
   "metadata": {},
   "source": [
    "I will use various metrics to measure the performance of the models:\n",
    "- Loss - quantifies the model \"error\"\n",
    "- Accuracy - proportion of correct predictions out of all\n",
    "- Precision - measures the accuracy of positive predictions\n",
    "- Recall - measures ability of the model to identify all positive cases\n",
    "- F1 Score - combination of Precision and Recall, which is the harmonic mean of both\n",
    "\n",
    "Now I will train the model for the specified baseline number of epochs."
   ]
  },
  {
   "cell_type": "code",
   "execution_count": 60,
   "metadata": {},
   "outputs": [
    {
     "name": "stdout",
     "output_type": "stream",
     "text": [
      "Epoch [1/6], Loss: 1.7243, Accuracy: 36.52%\n",
      "Precision: 0.3600, Recall: 0.3652, F1 Score: 0.3588\n",
      "Epoch [2/6], Loss: 1.5018, Accuracy: 45.56%\n",
      "Precision: 0.4508, Recall: 0.4556, F1 Score: 0.4516\n",
      "Epoch [3/6], Loss: 1.3872, Accuracy: 50.22%\n",
      "Precision: 0.4996, Recall: 0.5022, F1 Score: 0.5000\n",
      "Epoch [4/6], Loss: 1.3208, Accuracy: 52.82%\n",
      "Precision: 0.5253, Recall: 0.5282, F1 Score: 0.5258\n",
      "Epoch [5/6], Loss: 1.2647, Accuracy: 54.93%\n",
      "Precision: 0.5474, Recall: 0.5493, F1 Score: 0.5475\n",
      "Epoch [6/6], Loss: 1.2224, Accuracy: 56.45%\n",
      "Precision: 0.5632, Recall: 0.5645, F1 Score: 0.5631\n"
     ]
    }
   ],
   "source": [
    "from sklearn.metrics import precision_score, recall_score, f1_score, confusion_matrix\n",
    "\n",
    "for epoch in range(num_epochs):\n",
    "    model.train()\n",
    "    running_loss = 0.0\n",
    "    correct = 0\n",
    "    total = 0\n",
    "    \n",
    "    all_labels = []\n",
    "    all_predictions = [] \n",
    "\n",
    "    for images, labels in train_loader:\n",
    "        labels = labels.squeeze(1)\n",
    "        outputs = model(images)\n",
    "        loss = criterion(outputs, labels)\n",
    "        \n",
    "        optimizer.zero_grad()\n",
    "        loss.backward()\n",
    "        optimizer.step()\n",
    "        \n",
    "        running_loss += loss.item()\n",
    "        _, predicted = torch.max(outputs.data, 1)\n",
    "        \n",
    "        total += labels.size(0)\n",
    "        correct += (predicted == labels).sum().item()\n",
    "\n",
    "        all_labels.extend(labels.cpu().numpy())\n",
    "        all_predictions.extend(predicted.cpu().numpy())\n",
    "    \n",
    "    precision = precision_score(all_labels, all_predictions, average='weighted')\n",
    "    recall = recall_score(all_labels, all_predictions, average='weighted')\n",
    "    f1 = f1_score(all_labels, all_predictions, average='weighted')\n",
    "    \n",
    "    print(f\"Epoch [{epoch+1}/{num_epochs}], Loss: {running_loss/len(train_loader):.4f}, Accuracy: {100 * correct / total:.2f}%\")\n",
    "    print(f\"Precision: {precision:.4f}, Recall: {recall:.4f}, F1 Score: {f1:.4f}\")\n"
   ]
  },
  {
   "cell_type": "markdown",
   "metadata": {},
   "source": [
    "As seen above, the model converges to 56.45% accuracy from the baseline model with a loss of 1.22. Precision and Recall are also low with 0.563 and 0.564, which leads to a low F1 score aswell.\n",
    "\n",
    "This isn't a strong result but creates a great starting point to build on.\n",
    "I first want to experiment with adding 1 more convolutional layer and 1 more fully connected layer. The convolutional layer will improve feature extraction and the fully connected layer will allow the model to learn more complex patterns:"
   ]
  }
 ],
 "metadata": {
  "kernelspec": {
   "display_name": "base",
   "language": "python",
   "name": "python3"
  },
  "language_info": {
   "codemirror_mode": {
    "name": "ipython",
    "version": 3
   },
   "file_extension": ".py",
   "mimetype": "text/x-python",
   "name": "python",
   "nbconvert_exporter": "python",
   "pygments_lexer": "ipython3",
   "version": "3.12.4"
  }
 },
 "nbformat": 4,
 "nbformat_minor": 2
}
